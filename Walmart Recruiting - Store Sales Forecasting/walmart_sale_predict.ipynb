{
 "cells": [
  {
   "cell_type": "code",
   "execution_count": 1,
   "metadata": {
    "_cell_guid": "b1076dfc-b9ad-4769-8c92-a6c4dae69d19",
    "_uuid": "8f2839f25d086af736a60e9eeb907d3b93b6e0e5",
    "execution": {
     "iopub.execute_input": "2021-03-05T07:32:45.802757Z",
     "iopub.status.busy": "2021-03-05T07:32:45.802123Z",
     "iopub.status.idle": "2021-03-05T07:32:45.808485Z",
     "shell.execute_reply": "2021-03-05T07:32:45.809120Z"
    },
    "papermill": {
     "duration": 0.028425,
     "end_time": "2021-03-05T07:32:45.809493",
     "exception": false,
     "start_time": "2021-03-05T07:32:45.781068",
     "status": "completed"
    },
    "tags": []
   },
   "outputs": [
    {
     "name": "stdout",
     "output_type": "stream",
     "text": [
      "/kaggle/input/walmart-recruiting-store-sales-forecasting/train.csv.zip\n",
      "/kaggle/input/walmart-recruiting-store-sales-forecasting/sampleSubmission.csv.zip\n",
      "/kaggle/input/walmart-recruiting-store-sales-forecasting/stores.csv\n",
      "/kaggle/input/walmart-recruiting-store-sales-forecasting/features.csv.zip\n",
      "/kaggle/input/walmart-recruiting-store-sales-forecasting/test.csv.zip\n"
     ]
    }
   ],
   "source": [
    "# This Python 3 environment comes with many helpful analytics libraries installed\n",
    "# It is defined by the kaggle/python Docker image: https://github.com/kaggle/docker-python\n",
    "# For example, here's several helpful packages to load\n",
    "\n",
    "import numpy as np # linear algebra\n",
    "import pandas as pd # data processing, CSV file I/O (e.g. pd.read_csv)\n",
    "\n",
    "# Input data files are available in the read-only \"../input/\" directory\n",
    "# For example, running this (by clicking run or pressing Shift+Enter) will list all files under the input directory\n",
    "\n",
    "import os\n",
    "for dirname, _, filenames in os.walk('/kaggle/input'):\n",
    "    for filename in filenames:\n",
    "        print(os.path.join(dirname, filename))\n",
    "\n",
    "# You can write up to 20GB to the current directory (/kaggle/working/) that gets preserved as output when you create a version using \"Save & Run All\" \n",
    "# You can also write temporary files to /kaggle/temp/, but they won't be saved outside of the current session"
   ]
  },
  {
   "cell_type": "code",
   "execution_count": 2,
   "metadata": {
    "execution": {
     "iopub.execute_input": "2021-03-05T07:32:45.854266Z",
     "iopub.status.busy": "2021-03-05T07:32:45.853402Z",
     "iopub.status.idle": "2021-03-05T07:32:46.455331Z",
     "shell.execute_reply": "2021-03-05T07:32:46.454780Z"
    },
    "papermill": {
     "duration": 0.625872,
     "end_time": "2021-03-05T07:32:46.455468",
     "exception": false,
     "start_time": "2021-03-05T07:32:45.829596",
     "status": "completed"
    },
    "tags": []
   },
   "outputs": [
    {
     "data": {
      "text/html": [
       "<div>\n",
       "<style scoped>\n",
       "    .dataframe tbody tr th:only-of-type {\n",
       "        vertical-align: middle;\n",
       "    }\n",
       "\n",
       "    .dataframe tbody tr th {\n",
       "        vertical-align: top;\n",
       "    }\n",
       "\n",
       "    .dataframe thead th {\n",
       "        text-align: right;\n",
       "    }\n",
       "</style>\n",
       "<table border=\"1\" class=\"dataframe\">\n",
       "  <thead>\n",
       "    <tr style=\"text-align: right;\">\n",
       "      <th></th>\n",
       "      <th>Store</th>\n",
       "      <th>Dept</th>\n",
       "      <th>Date</th>\n",
       "      <th>Weekly_Sales</th>\n",
       "      <th>IsHoliday</th>\n",
       "    </tr>\n",
       "  </thead>\n",
       "  <tbody>\n",
       "    <tr>\n",
       "      <th>0</th>\n",
       "      <td>1</td>\n",
       "      <td>1</td>\n",
       "      <td>2010-02-05</td>\n",
       "      <td>24924.50</td>\n",
       "      <td>False</td>\n",
       "    </tr>\n",
       "    <tr>\n",
       "      <th>1</th>\n",
       "      <td>1</td>\n",
       "      <td>1</td>\n",
       "      <td>2010-02-12</td>\n",
       "      <td>46039.49</td>\n",
       "      <td>True</td>\n",
       "    </tr>\n",
       "    <tr>\n",
       "      <th>2</th>\n",
       "      <td>1</td>\n",
       "      <td>1</td>\n",
       "      <td>2010-02-19</td>\n",
       "      <td>41595.55</td>\n",
       "      <td>False</td>\n",
       "    </tr>\n",
       "    <tr>\n",
       "      <th>3</th>\n",
       "      <td>1</td>\n",
       "      <td>1</td>\n",
       "      <td>2010-02-26</td>\n",
       "      <td>19403.54</td>\n",
       "      <td>False</td>\n",
       "    </tr>\n",
       "    <tr>\n",
       "      <th>4</th>\n",
       "      <td>1</td>\n",
       "      <td>1</td>\n",
       "      <td>2010-03-05</td>\n",
       "      <td>21827.90</td>\n",
       "      <td>False</td>\n",
       "    </tr>\n",
       "  </tbody>\n",
       "</table>\n",
       "</div>"
      ],
      "text/plain": [
       "   Store  Dept        Date  Weekly_Sales  IsHoliday\n",
       "0      1     1  2010-02-05      24924.50      False\n",
       "1      1     1  2010-02-12      46039.49       True\n",
       "2      1     1  2010-02-19      41595.55      False\n",
       "3      1     1  2010-02-26      19403.54      False\n",
       "4      1     1  2010-03-05      21827.90      False"
      ]
     },
     "execution_count": 2,
     "metadata": {},
     "output_type": "execute_result"
    }
   ],
   "source": [
    "# pandas library -> 데이터 전처리할 때 많이 사용\n",
    "# zip 파일 -> 파일 하나만 있을 때 그냥 경로 넣어도 상관 없음\n",
    "# 여러 개의 파일이 압축되어 있을 때 -> 압축 풀어줘야 함\n",
    "train = pd.read_csv(\"/kaggle/input/walmart-recruiting-store-sales-forecasting/train.csv.zip\")\n",
    "train.head()\n",
    "\n",
    "# Weekly_Sales 값 예측하는 모델 만드는 것이 목표 \n",
    "# 가설 : 공휴일(Holiday)일 때 Sale이 올라갈 것이다 -> EDA 해보기"
   ]
  },
  {
   "cell_type": "code",
   "execution_count": 3,
   "metadata": {
    "execution": {
     "iopub.execute_input": "2021-03-05T07:32:46.488256Z",
     "iopub.status.busy": "2021-03-05T07:32:46.487493Z",
     "iopub.status.idle": "2021-03-05T07:32:46.558370Z",
     "shell.execute_reply": "2021-03-05T07:32:46.557702Z"
    },
    "papermill": {
     "duration": 0.089009,
     "end_time": "2021-03-05T07:32:46.558560",
     "exception": false,
     "start_time": "2021-03-05T07:32:46.469551",
     "status": "completed"
    },
    "tags": []
   },
   "outputs": [
    {
     "data": {
      "text/html": [
       "<div>\n",
       "<style scoped>\n",
       "    .dataframe tbody tr th:only-of-type {\n",
       "        vertical-align: middle;\n",
       "    }\n",
       "\n",
       "    .dataframe tbody tr th {\n",
       "        vertical-align: top;\n",
       "    }\n",
       "\n",
       "    .dataframe thead th {\n",
       "        text-align: right;\n",
       "    }\n",
       "</style>\n",
       "<table border=\"1\" class=\"dataframe\">\n",
       "  <thead>\n",
       "    <tr style=\"text-align: right;\">\n",
       "      <th></th>\n",
       "      <th>Store</th>\n",
       "      <th>Dept</th>\n",
       "      <th>Date</th>\n",
       "      <th>IsHoliday</th>\n",
       "    </tr>\n",
       "  </thead>\n",
       "  <tbody>\n",
       "    <tr>\n",
       "      <th>0</th>\n",
       "      <td>1</td>\n",
       "      <td>1</td>\n",
       "      <td>2012-11-02</td>\n",
       "      <td>False</td>\n",
       "    </tr>\n",
       "    <tr>\n",
       "      <th>1</th>\n",
       "      <td>1</td>\n",
       "      <td>1</td>\n",
       "      <td>2012-11-09</td>\n",
       "      <td>False</td>\n",
       "    </tr>\n",
       "    <tr>\n",
       "      <th>2</th>\n",
       "      <td>1</td>\n",
       "      <td>1</td>\n",
       "      <td>2012-11-16</td>\n",
       "      <td>False</td>\n",
       "    </tr>\n",
       "    <tr>\n",
       "      <th>3</th>\n",
       "      <td>1</td>\n",
       "      <td>1</td>\n",
       "      <td>2012-11-23</td>\n",
       "      <td>True</td>\n",
       "    </tr>\n",
       "    <tr>\n",
       "      <th>4</th>\n",
       "      <td>1</td>\n",
       "      <td>1</td>\n",
       "      <td>2012-11-30</td>\n",
       "      <td>False</td>\n",
       "    </tr>\n",
       "  </tbody>\n",
       "</table>\n",
       "</div>"
      ],
      "text/plain": [
       "   Store  Dept        Date  IsHoliday\n",
       "0      1     1  2012-11-02      False\n",
       "1      1     1  2012-11-09      False\n",
       "2      1     1  2012-11-16      False\n",
       "3      1     1  2012-11-23       True\n",
       "4      1     1  2012-11-30      False"
      ]
     },
     "execution_count": 3,
     "metadata": {},
     "output_type": "execute_result"
    }
   ],
   "source": [
    "test = pd.read_csv(\"/kaggle/input/walmart-recruiting-store-sales-forecasting/test.csv.zip\")\n",
    "test.head()"
   ]
  },
  {
   "source": [
    "데이터 형식이 '숫자'로 들어가 있어야지 학습이 가능하다(타 형태일 시 모델이 이해를 하지 못함)    \n",
    "-> 모든 column들의 값들이 숫자 형태를 띄도록 변화  \n",
    "-> 해당 데이터는 Date column이 string 형식으로 들어가 있음"
   ],
   "cell_type": "markdown",
   "metadata": {}
  },
  {
   "cell_type": "code",
   "execution_count": 4,
   "metadata": {
    "execution": {
     "iopub.execute_input": "2021-03-05T07:32:46.596381Z",
     "iopub.status.busy": "2021-03-05T07:32:46.595530Z",
     "iopub.status.idle": "2021-03-05T07:32:46.599975Z",
     "shell.execute_reply": "2021-03-05T07:32:46.600466Z"
    },
    "papermill": {
     "duration": 0.027277,
     "end_time": "2021-03-05T07:32:46.600630",
     "exception": false,
     "start_time": "2021-03-05T07:32:46.573353",
     "status": "completed"
    },
    "tags": []
   },
   "outputs": [
    {
     "data": {
      "text/plain": [
       "Store             int64\n",
       "Dept              int64\n",
       "Date             object\n",
       "Weekly_Sales    float64\n",
       "IsHoliday          bool\n",
       "dtype: object"
      ]
     },
     "execution_count": 4,
     "metadata": {},
     "output_type": "execute_result"
    }
   ],
   "source": [
    "\n",
    "train.dtypes # 각 column의 데이터 형식 출력"
   ]
  },
  {
   "cell_type": "code",
   "execution_count": 5,
   "metadata": {
    "execution": {
     "iopub.execute_input": "2021-03-05T07:32:46.684772Z",
     "iopub.status.busy": "2021-03-05T07:32:46.662311Z",
     "iopub.status.idle": "2021-03-05T07:32:46.965858Z",
     "shell.execute_reply": "2021-03-05T07:32:46.965351Z"
    },
    "papermill": {
     "duration": 0.350366,
     "end_time": "2021-03-05T07:32:46.965991",
     "exception": false,
     "start_time": "2021-03-05T07:32:46.615625",
     "status": "completed"
    },
    "tags": []
   },
   "outputs": [
    {
     "data": {
      "text/html": [
       "<div>\n",
       "<style scoped>\n",
       "    .dataframe tbody tr th:only-of-type {\n",
       "        vertical-align: middle;\n",
       "    }\n",
       "\n",
       "    .dataframe tbody tr th {\n",
       "        vertical-align: top;\n",
       "    }\n",
       "\n",
       "    .dataframe thead th {\n",
       "        text-align: right;\n",
       "    }\n",
       "</style>\n",
       "<table border=\"1\" class=\"dataframe\">\n",
       "  <thead>\n",
       "    <tr style=\"text-align: right;\">\n",
       "      <th></th>\n",
       "      <th>Store</th>\n",
       "      <th>Dept</th>\n",
       "      <th>Date</th>\n",
       "      <th>Weekly_Sales</th>\n",
       "      <th>IsHoliday</th>\n",
       "      <th>Year</th>\n",
       "      <th>Month</th>\n",
       "    </tr>\n",
       "  </thead>\n",
       "  <tbody>\n",
       "    <tr>\n",
       "      <th>0</th>\n",
       "      <td>1</td>\n",
       "      <td>1</td>\n",
       "      <td>2010-02-05</td>\n",
       "      <td>24924.50</td>\n",
       "      <td>False</td>\n",
       "      <td>2010</td>\n",
       "      <td>2</td>\n",
       "    </tr>\n",
       "    <tr>\n",
       "      <th>1</th>\n",
       "      <td>1</td>\n",
       "      <td>1</td>\n",
       "      <td>2010-02-12</td>\n",
       "      <td>46039.49</td>\n",
       "      <td>True</td>\n",
       "      <td>2010</td>\n",
       "      <td>2</td>\n",
       "    </tr>\n",
       "    <tr>\n",
       "      <th>2</th>\n",
       "      <td>1</td>\n",
       "      <td>1</td>\n",
       "      <td>2010-02-19</td>\n",
       "      <td>41595.55</td>\n",
       "      <td>False</td>\n",
       "      <td>2010</td>\n",
       "      <td>2</td>\n",
       "    </tr>\n",
       "    <tr>\n",
       "      <th>3</th>\n",
       "      <td>1</td>\n",
       "      <td>1</td>\n",
       "      <td>2010-02-26</td>\n",
       "      <td>19403.54</td>\n",
       "      <td>False</td>\n",
       "      <td>2010</td>\n",
       "      <td>2</td>\n",
       "    </tr>\n",
       "    <tr>\n",
       "      <th>4</th>\n",
       "      <td>1</td>\n",
       "      <td>1</td>\n",
       "      <td>2010-03-05</td>\n",
       "      <td>21827.90</td>\n",
       "      <td>False</td>\n",
       "      <td>2010</td>\n",
       "      <td>3</td>\n",
       "    </tr>\n",
       "    <tr>\n",
       "      <th>...</th>\n",
       "      <td>...</td>\n",
       "      <td>...</td>\n",
       "      <td>...</td>\n",
       "      <td>...</td>\n",
       "      <td>...</td>\n",
       "      <td>...</td>\n",
       "      <td>...</td>\n",
       "    </tr>\n",
       "    <tr>\n",
       "      <th>421565</th>\n",
       "      <td>45</td>\n",
       "      <td>98</td>\n",
       "      <td>2012-09-28</td>\n",
       "      <td>508.37</td>\n",
       "      <td>False</td>\n",
       "      <td>2012</td>\n",
       "      <td>9</td>\n",
       "    </tr>\n",
       "    <tr>\n",
       "      <th>421566</th>\n",
       "      <td>45</td>\n",
       "      <td>98</td>\n",
       "      <td>2012-10-05</td>\n",
       "      <td>628.10</td>\n",
       "      <td>False</td>\n",
       "      <td>2012</td>\n",
       "      <td>10</td>\n",
       "    </tr>\n",
       "    <tr>\n",
       "      <th>421567</th>\n",
       "      <td>45</td>\n",
       "      <td>98</td>\n",
       "      <td>2012-10-12</td>\n",
       "      <td>1061.02</td>\n",
       "      <td>False</td>\n",
       "      <td>2012</td>\n",
       "      <td>10</td>\n",
       "    </tr>\n",
       "    <tr>\n",
       "      <th>421568</th>\n",
       "      <td>45</td>\n",
       "      <td>98</td>\n",
       "      <td>2012-10-19</td>\n",
       "      <td>760.01</td>\n",
       "      <td>False</td>\n",
       "      <td>2012</td>\n",
       "      <td>10</td>\n",
       "    </tr>\n",
       "    <tr>\n",
       "      <th>421569</th>\n",
       "      <td>45</td>\n",
       "      <td>98</td>\n",
       "      <td>2012-10-26</td>\n",
       "      <td>1076.80</td>\n",
       "      <td>False</td>\n",
       "      <td>2012</td>\n",
       "      <td>10</td>\n",
       "    </tr>\n",
       "  </tbody>\n",
       "</table>\n",
       "<p>421570 rows × 7 columns</p>\n",
       "</div>"
      ],
      "text/plain": [
       "        Store  Dept       Date  Weekly_Sales  IsHoliday  Year  Month\n",
       "0           1     1 2010-02-05      24924.50      False  2010      2\n",
       "1           1     1 2010-02-12      46039.49       True  2010      2\n",
       "2           1     1 2010-02-19      41595.55      False  2010      2\n",
       "3           1     1 2010-02-26      19403.54      False  2010      2\n",
       "4           1     1 2010-03-05      21827.90      False  2010      3\n",
       "...       ...   ...        ...           ...        ...   ...    ...\n",
       "421565     45    98 2012-09-28        508.37      False  2012      9\n",
       "421566     45    98 2012-10-05        628.10      False  2012     10\n",
       "421567     45    98 2012-10-12       1061.02      False  2012     10\n",
       "421568     45    98 2012-10-19        760.01      False  2012     10\n",
       "421569     45    98 2012-10-26       1076.80      False  2012     10\n",
       "\n",
       "[421570 rows x 7 columns]"
      ]
     },
     "execution_count": 5,
     "metadata": {},
     "output_type": "execute_result"
    }
   ],
   "source": [
    "## 판다스 데이터 형식을 object 형식을 날짜 형태로 변환 -> 연도, 월, 일 정보 추출 가능\n",
    "train['Date'] = pd.to_datetime(train['Date'])\n",
    "train['Year'] = train['Date'].dt.year #.dt -> 날짜 데이터 가져오고 싶다\n",
    "train['Month'] = train['Date'].dt.month\n",
    "train"
   ]
  },
  {
   "cell_type": "code",
   "execution_count": 6,
   "metadata": {
    "execution": {
     "iopub.execute_input": "2021-03-05T07:32:47.022034Z",
     "iopub.status.busy": "2021-03-05T07:32:47.015955Z",
     "iopub.status.idle": "2021-03-05T07:32:47.112920Z",
     "shell.execute_reply": "2021-03-05T07:32:47.112130Z"
    },
    "papermill": {
     "duration": 0.131716,
     "end_time": "2021-03-05T07:32:47.113092",
     "exception": false,
     "start_time": "2021-03-05T07:32:46.981376",
     "status": "completed"
    },
    "tags": []
   },
   "outputs": [
    {
     "data": {
      "text/html": [
       "<div>\n",
       "<style scoped>\n",
       "    .dataframe tbody tr th:only-of-type {\n",
       "        vertical-align: middle;\n",
       "    }\n",
       "\n",
       "    .dataframe tbody tr th {\n",
       "        vertical-align: top;\n",
       "    }\n",
       "\n",
       "    .dataframe thead th {\n",
       "        text-align: right;\n",
       "    }\n",
       "</style>\n",
       "<table border=\"1\" class=\"dataframe\">\n",
       "  <thead>\n",
       "    <tr style=\"text-align: right;\">\n",
       "      <th></th>\n",
       "      <th>Store</th>\n",
       "      <th>Dept</th>\n",
       "      <th>Date</th>\n",
       "      <th>IsHoliday</th>\n",
       "      <th>Year</th>\n",
       "      <th>Month</th>\n",
       "    </tr>\n",
       "  </thead>\n",
       "  <tbody>\n",
       "    <tr>\n",
       "      <th>0</th>\n",
       "      <td>1</td>\n",
       "      <td>1</td>\n",
       "      <td>2012-11-02</td>\n",
       "      <td>False</td>\n",
       "      <td>2012</td>\n",
       "      <td>11</td>\n",
       "    </tr>\n",
       "    <tr>\n",
       "      <th>1</th>\n",
       "      <td>1</td>\n",
       "      <td>1</td>\n",
       "      <td>2012-11-09</td>\n",
       "      <td>False</td>\n",
       "      <td>2012</td>\n",
       "      <td>11</td>\n",
       "    </tr>\n",
       "    <tr>\n",
       "      <th>2</th>\n",
       "      <td>1</td>\n",
       "      <td>1</td>\n",
       "      <td>2012-11-16</td>\n",
       "      <td>False</td>\n",
       "      <td>2012</td>\n",
       "      <td>11</td>\n",
       "    </tr>\n",
       "    <tr>\n",
       "      <th>3</th>\n",
       "      <td>1</td>\n",
       "      <td>1</td>\n",
       "      <td>2012-11-23</td>\n",
       "      <td>True</td>\n",
       "      <td>2012</td>\n",
       "      <td>11</td>\n",
       "    </tr>\n",
       "    <tr>\n",
       "      <th>4</th>\n",
       "      <td>1</td>\n",
       "      <td>1</td>\n",
       "      <td>2012-11-30</td>\n",
       "      <td>False</td>\n",
       "      <td>2012</td>\n",
       "      <td>11</td>\n",
       "    </tr>\n",
       "    <tr>\n",
       "      <th>...</th>\n",
       "      <td>...</td>\n",
       "      <td>...</td>\n",
       "      <td>...</td>\n",
       "      <td>...</td>\n",
       "      <td>...</td>\n",
       "      <td>...</td>\n",
       "    </tr>\n",
       "    <tr>\n",
       "      <th>115059</th>\n",
       "      <td>45</td>\n",
       "      <td>98</td>\n",
       "      <td>2013-06-28</td>\n",
       "      <td>False</td>\n",
       "      <td>2013</td>\n",
       "      <td>6</td>\n",
       "    </tr>\n",
       "    <tr>\n",
       "      <th>115060</th>\n",
       "      <td>45</td>\n",
       "      <td>98</td>\n",
       "      <td>2013-07-05</td>\n",
       "      <td>False</td>\n",
       "      <td>2013</td>\n",
       "      <td>7</td>\n",
       "    </tr>\n",
       "    <tr>\n",
       "      <th>115061</th>\n",
       "      <td>45</td>\n",
       "      <td>98</td>\n",
       "      <td>2013-07-12</td>\n",
       "      <td>False</td>\n",
       "      <td>2013</td>\n",
       "      <td>7</td>\n",
       "    </tr>\n",
       "    <tr>\n",
       "      <th>115062</th>\n",
       "      <td>45</td>\n",
       "      <td>98</td>\n",
       "      <td>2013-07-19</td>\n",
       "      <td>False</td>\n",
       "      <td>2013</td>\n",
       "      <td>7</td>\n",
       "    </tr>\n",
       "    <tr>\n",
       "      <th>115063</th>\n",
       "      <td>45</td>\n",
       "      <td>98</td>\n",
       "      <td>2013-07-26</td>\n",
       "      <td>False</td>\n",
       "      <td>2013</td>\n",
       "      <td>7</td>\n",
       "    </tr>\n",
       "  </tbody>\n",
       "</table>\n",
       "<p>115064 rows × 6 columns</p>\n",
       "</div>"
      ],
      "text/plain": [
       "        Store  Dept       Date  IsHoliday  Year  Month\n",
       "0           1     1 2012-11-02      False  2012     11\n",
       "1           1     1 2012-11-09      False  2012     11\n",
       "2           1     1 2012-11-16      False  2012     11\n",
       "3           1     1 2012-11-23       True  2012     11\n",
       "4           1     1 2012-11-30      False  2012     11\n",
       "...       ...   ...        ...        ...   ...    ...\n",
       "115059     45    98 2013-06-28      False  2013      6\n",
       "115060     45    98 2013-07-05      False  2013      7\n",
       "115061     45    98 2013-07-12      False  2013      7\n",
       "115062     45    98 2013-07-19      False  2013      7\n",
       "115063     45    98 2013-07-26      False  2013      7\n",
       "\n",
       "[115064 rows x 6 columns]"
      ]
     },
     "execution_count": 6,
     "metadata": {},
     "output_type": "execute_result"
    }
   ],
   "source": [
    "test['Date'] = pd.to_datetime(test['Date'])\n",
    "test['Year'] = test['Date'].dt.year\n",
    "test['Month'] = test['Date'].dt.month\n",
    "test"
   ]
  },
  {
   "cell_type": "code",
   "execution_count": 7,
   "metadata": {
    "execution": {
     "iopub.execute_input": "2021-03-05T07:32:47.167845Z",
     "iopub.status.busy": "2021-03-05T07:32:47.166876Z",
     "iopub.status.idle": "2021-03-05T07:32:48.561634Z",
     "shell.execute_reply": "2021-03-05T07:32:48.561096Z"
    },
    "papermill": {
     "duration": 1.42472,
     "end_time": "2021-03-05T07:32:48.561767",
     "exception": false,
     "start_time": "2021-03-05T07:32:47.137047",
     "status": "completed"
    },
    "tags": []
   },
   "outputs": [
    {
     "name": "stderr",
     "output_type": "stream",
     "text": [
      "/opt/conda/lib/python3.7/site-packages/seaborn/_decorators.py:43: FutureWarning: Pass the following variables as keyword args: x, y. From version 0.12, the only valid positional argument will be `data`, and passing other arguments without an explicit keyword will result in an error or misinterpretation.\n",
      "  FutureWarning\n"
     ]
    },
    {
     "data": {
      "text/plain": [
       "<AxesSubplot:xlabel='Month', ylabel='Weekly_Sales'>"
      ]
     },
     "execution_count": 7,
     "metadata": {},
     "output_type": "execute_result"
    },
    {
     "data": {
      "image/png": "[encoded data removed]",
      "text/plain": [
       "<Figure size 1008x576 with 1 Axes>"
      ]
     },
     "metadata": {
      "needs_background": "light"
     },
     "output_type": "display_data"
    }
   ],
   "source": [
    "# 예측 column과의 연관성 보기\n",
    "\n",
    "import seaborn as sns\n",
    "import matplotlib.pyplot as plt\n",
    "\n",
    "# 그림의 사이즈 지정하기\n",
    "plt.figure(figsize = (14, 8))\n",
    "# 어떤 column이 중요한지\n",
    "# 정답 column과 비교해 Month 데이터가 영향이 있는지\n",
    "# showfliers = False -> outliers, 튀는 애들 안 보이게 하기\n",
    "sns.boxplot(train['Month'],train['Weekly_Sales'], showfliers = False)"
   ]
  },
  {
   "cell_type": "markdown",
   "metadata": {
    "papermill": {
     "duration": 0.017275,
     "end_time": "2021-03-05T07:32:48.597050",
     "exception": false,
     "start_time": "2021-03-05T07:32:48.579775",
     "status": "completed"
    },
    "tags": []
   },
   "source": [
    "그래프를 보았을 때 각 월별로 median, 상위 25%의 Sales 수치가 다르다 <br>\n",
    "-> 월에 따라 Sales 수치가 변화한다, 예측할 때 월 정보가 유의미하게 적용할 수 있다는 것을 유추해볼 수 있다. <br>\n",
    "-> 판매량이 '음수'인 경우가 있다는 것을 확인: 특정 월에 반품이 많이 들어오거나 환불이 더 많이 들어온 경우 음수의 Sales 값이 나올 수 있다. "
   ]
  },
  {
   "cell_type": "code",
   "execution_count": null,
   "metadata": {
    "papermill": {
     "duration": 0.017305,
     "end_time": "2021-03-05T07:32:48.632087",
     "exception": false,
     "start_time": "2021-03-05T07:32:48.614782",
     "status": "completed"
    },
    "tags": []
   },
   "outputs": [],
   "source": []
  },
  {
   "cell_type": "code",
   "execution_count": 8,
   "metadata": {
    "execution": {
     "iopub.execute_input": "2021-03-05T07:32:48.675451Z",
     "iopub.status.busy": "2021-03-05T07:32:48.674753Z",
     "iopub.status.idle": "2021-03-05T07:32:48.698713Z",
     "shell.execute_reply": "2021-03-05T07:32:48.697978Z"
    },
    "papermill": {
     "duration": 0.047856,
     "end_time": "2021-03-05T07:32:48.698869",
     "exception": false,
     "start_time": "2021-03-05T07:32:48.651013",
     "status": "completed"
    },
    "tags": []
   },
   "outputs": [
    {
     "data": {
      "text/html": [
       "<div>\n",
       "<style scoped>\n",
       "    .dataframe tbody tr th:only-of-type {\n",
       "        vertical-align: middle;\n",
       "    }\n",
       "\n",
       "    .dataframe tbody tr th {\n",
       "        vertical-align: top;\n",
       "    }\n",
       "\n",
       "    .dataframe thead th {\n",
       "        text-align: right;\n",
       "    }\n",
       "</style>\n",
       "<table border=\"1\" class=\"dataframe\">\n",
       "  <thead>\n",
       "    <tr style=\"text-align: right;\">\n",
       "      <th></th>\n",
       "      <th>Store</th>\n",
       "      <th>Dept</th>\n",
       "      <th>IsHoliday</th>\n",
       "      <th>Year</th>\n",
       "      <th>Month</th>\n",
       "    </tr>\n",
       "  </thead>\n",
       "  <tbody>\n",
       "    <tr>\n",
       "      <th>0</th>\n",
       "      <td>1</td>\n",
       "      <td>1</td>\n",
       "      <td>False</td>\n",
       "      <td>2010</td>\n",
       "      <td>2</td>\n",
       "    </tr>\n",
       "    <tr>\n",
       "      <th>1</th>\n",
       "      <td>1</td>\n",
       "      <td>1</td>\n",
       "      <td>True</td>\n",
       "      <td>2010</td>\n",
       "      <td>2</td>\n",
       "    </tr>\n",
       "    <tr>\n",
       "      <th>2</th>\n",
       "      <td>1</td>\n",
       "      <td>1</td>\n",
       "      <td>False</td>\n",
       "      <td>2010</td>\n",
       "      <td>2</td>\n",
       "    </tr>\n",
       "    <tr>\n",
       "      <th>3</th>\n",
       "      <td>1</td>\n",
       "      <td>1</td>\n",
       "      <td>False</td>\n",
       "      <td>2010</td>\n",
       "      <td>2</td>\n",
       "    </tr>\n",
       "    <tr>\n",
       "      <th>4</th>\n",
       "      <td>1</td>\n",
       "      <td>1</td>\n",
       "      <td>False</td>\n",
       "      <td>2010</td>\n",
       "      <td>3</td>\n",
       "    </tr>\n",
       "  </tbody>\n",
       "</table>\n",
       "</div>"
      ],
      "text/plain": [
       "   Store  Dept  IsHoliday  Year  Month\n",
       "0      1     1      False  2010      2\n",
       "1      1     1       True  2010      2\n",
       "2      1     1      False  2010      2\n",
       "3      1     1      False  2010      2\n",
       "4      1     1      False  2010      3"
      ]
     },
     "execution_count": 8,
     "metadata": {},
     "output_type": "execute_result"
    }
   ],
   "source": [
    "# train, test -> 모델에 집어넣는 형태 같아야 한다\n",
    "# train 에서 column지웠을 시 test에서도 지워야 한다\n",
    "\n",
    "train2 = train.drop(columns = ['Date', 'Weekly_Sales']) # date, sales column 삭제\n",
    "train2.head()"
   ]
  },
  {
   "cell_type": "code",
   "execution_count": 9,
   "metadata": {
    "execution": {
     "iopub.execute_input": "2021-03-05T07:32:48.760638Z",
     "iopub.status.busy": "2021-03-05T07:32:48.759824Z",
     "iopub.status.idle": "2021-03-05T07:32:48.772696Z",
     "shell.execute_reply": "2021-03-05T07:32:48.771929Z"
    },
    "papermill": {
     "duration": 0.046736,
     "end_time": "2021-03-05T07:32:48.772849",
     "exception": false,
     "start_time": "2021-03-05T07:32:48.726113",
     "status": "completed"
    },
    "tags": []
   },
   "outputs": [
    {
     "data": {
      "text/html": [
       "<div>\n",
       "<style scoped>\n",
       "    .dataframe tbody tr th:only-of-type {\n",
       "        vertical-align: middle;\n",
       "    }\n",
       "\n",
       "    .dataframe tbody tr th {\n",
       "        vertical-align: top;\n",
       "    }\n",
       "\n",
       "    .dataframe thead th {\n",
       "        text-align: right;\n",
       "    }\n",
       "</style>\n",
       "<table border=\"1\" class=\"dataframe\">\n",
       "  <thead>\n",
       "    <tr style=\"text-align: right;\">\n",
       "      <th></th>\n",
       "      <th>Store</th>\n",
       "      <th>Dept</th>\n",
       "      <th>IsHoliday</th>\n",
       "      <th>Year</th>\n",
       "      <th>Month</th>\n",
       "    </tr>\n",
       "  </thead>\n",
       "  <tbody>\n",
       "    <tr>\n",
       "      <th>0</th>\n",
       "      <td>1</td>\n",
       "      <td>1</td>\n",
       "      <td>False</td>\n",
       "      <td>2012</td>\n",
       "      <td>11</td>\n",
       "    </tr>\n",
       "    <tr>\n",
       "      <th>1</th>\n",
       "      <td>1</td>\n",
       "      <td>1</td>\n",
       "      <td>False</td>\n",
       "      <td>2012</td>\n",
       "      <td>11</td>\n",
       "    </tr>\n",
       "    <tr>\n",
       "      <th>2</th>\n",
       "      <td>1</td>\n",
       "      <td>1</td>\n",
       "      <td>False</td>\n",
       "      <td>2012</td>\n",
       "      <td>11</td>\n",
       "    </tr>\n",
       "    <tr>\n",
       "      <th>3</th>\n",
       "      <td>1</td>\n",
       "      <td>1</td>\n",
       "      <td>True</td>\n",
       "      <td>2012</td>\n",
       "      <td>11</td>\n",
       "    </tr>\n",
       "    <tr>\n",
       "      <th>4</th>\n",
       "      <td>1</td>\n",
       "      <td>1</td>\n",
       "      <td>False</td>\n",
       "      <td>2012</td>\n",
       "      <td>11</td>\n",
       "    </tr>\n",
       "  </tbody>\n",
       "</table>\n",
       "</div>"
      ],
      "text/plain": [
       "   Store  Dept  IsHoliday  Year  Month\n",
       "0      1     1      False  2012     11\n",
       "1      1     1      False  2012     11\n",
       "2      1     1      False  2012     11\n",
       "3      1     1       True  2012     11\n",
       "4      1     1      False  2012     11"
      ]
     },
     "execution_count": 9,
     "metadata": {},
     "output_type": "execute_result"
    }
   ],
   "source": [
    "test2 = test.drop(columns = 'Date')\n",
    "test2.head()"
   ]
  },
  {
   "source": [
    "모델 4가지 과정 기억하기!!\n",
    "\n",
    "1. 모델 불러오기 -> 여러가지 모델 중 어떤 모델 사용? 어떤 데이터셋에 어떤 모델 쓰는 것이 최적?  \n",
    "    모델 잘 모름 -> 일단 사용 난이도 낮고 성능이 준수하게 나오는 모델: Random Forest\n",
    "2. 모델 정의하기\n",
    "3. 모델 학습시키기\n",
    "4. 모델 예측하기"
   ],
   "cell_type": "markdown",
   "metadata": {
    "execution": {
     "iopub.execute_input": "2021-03-05T07:32:48.834750Z",
     "iopub.status.busy": "2021-03-05T07:32:48.833924Z",
     "iopub.status.idle": "2021-03-05T07:32:48.837492Z",
     "shell.execute_reply": "2021-03-05T07:32:48.836788Z"
    },
    "papermill": {
     "duration": 0.035495,
     "end_time": "2021-03-05T07:32:48.837639",
     "exception": false,
     "start_time": "2021-03-05T07:32:48.802144",
     "status": "completed"
    },
    "tags": []
   }
  },
  {
   "cell_type": "code",
   "execution_count": 11,
   "metadata": {
    "execution": {
     "iopub.execute_input": "2021-03-05T07:32:48.902794Z",
     "iopub.status.busy": "2021-03-05T07:32:48.901945Z",
     "iopub.status.idle": "2021-03-05T07:33:15.116147Z",
     "shell.execute_reply": "2021-03-05T07:33:15.116811Z"
    },
    "papermill": {
     "duration": 26.250925,
     "end_time": "2021-03-05T07:33:15.117012",
     "exception": false,
     "start_time": "2021-03-05T07:32:48.866087",
     "status": "completed"
    },
    "tags": []
   },
   "outputs": [
    {
     "name": "stdout",
     "output_type": "stream",
     "text": [
      "CPU times: user 2 µs, sys: 0 ns, total: 2 µs\n",
      "Wall time: 5.72 µs\n"
     ]
    },
    {
     "data": {
      "text/plain": [
       "array([25524.03209659, 25524.03209659, 25524.03209659, ...,\n",
       "         714.88621495,   714.88621495,   714.88621495])"
      ]
     },
     "execution_count": 11,
     "metadata": {},
     "output_type": "execute_result"
    }
   ],
   "source": [
    "# Random Forest 앙상블 모델\n",
    "# 회귀문제 -> Regressor 사용\n",
    "# 예측값이 다중 클래스 분류인지 어떤 특정 값을 예측하는 것인지에 따라 Regressor/Classifier 선택\n",
    "# \n",
    "%time # train하는데 걸리는 시간 출력\n",
    "from sklearn.ensemble import RandomForestRegressor \n",
    "\n",
    "# 모델 선언 \n",
    "rf = RandomForestRegressor(n_jobs = 4)\n",
    "\n",
    "# 모델 학습\n",
    "rf.fit(train2, train['Weekly_Sales']) # .fit(독립변수들, 정답 column) 안에 학습용 데이터를 넣어 모델을 학습시킨다\n",
    "\n",
    "# 모델 예측 \n",
    "result = rf.predict(test2) \n",
    "result"
   ]
  },
  {
   "cell_type": "code",
   "execution_count": 12,
   "metadata": {
    "execution": {
     "iopub.execute_input": "2021-03-05T07:33:15.180267Z",
     "iopub.status.busy": "2021-03-05T07:33:15.179647Z",
     "iopub.status.idle": "2021-03-05T07:33:15.273078Z",
     "shell.execute_reply": "2021-03-05T07:33:15.273578Z"
    },
    "papermill": {
     "duration": 0.127098,
     "end_time": "2021-03-05T07:33:15.273745",
     "exception": false,
     "start_time": "2021-03-05T07:33:15.146647",
     "status": "completed"
    },
    "tags": []
   },
   "outputs": [
    {
     "data": {
      "text/html": [
       "<div>\n",
       "<style scoped>\n",
       "    .dataframe tbody tr th:only-of-type {\n",
       "        vertical-align: middle;\n",
       "    }\n",
       "\n",
       "    .dataframe tbody tr th {\n",
       "        vertical-align: top;\n",
       "    }\n",
       "\n",
       "    .dataframe thead th {\n",
       "        text-align: right;\n",
       "    }\n",
       "</style>\n",
       "<table border=\"1\" class=\"dataframe\">\n",
       "  <thead>\n",
       "    <tr style=\"text-align: right;\">\n",
       "      <th></th>\n",
       "      <th>Id</th>\n",
       "      <th>Weekly_Sales</th>\n",
       "    </tr>\n",
       "  </thead>\n",
       "  <tbody>\n",
       "    <tr>\n",
       "      <th>0</th>\n",
       "      <td>1_1_2012-11-02</td>\n",
       "      <td>0</td>\n",
       "    </tr>\n",
       "    <tr>\n",
       "      <th>1</th>\n",
       "      <td>1_1_2012-11-09</td>\n",
       "      <td>0</td>\n",
       "    </tr>\n",
       "    <tr>\n",
       "      <th>2</th>\n",
       "      <td>1_1_2012-11-16</td>\n",
       "      <td>0</td>\n",
       "    </tr>\n",
       "    <tr>\n",
       "      <th>3</th>\n",
       "      <td>1_1_2012-11-23</td>\n",
       "      <td>0</td>\n",
       "    </tr>\n",
       "    <tr>\n",
       "      <th>4</th>\n",
       "      <td>1_1_2012-11-30</td>\n",
       "      <td>0</td>\n",
       "    </tr>\n",
       "  </tbody>\n",
       "</table>\n",
       "</div>"
      ],
      "text/plain": [
       "               Id  Weekly_Sales\n",
       "0  1_1_2012-11-02             0\n",
       "1  1_1_2012-11-09             0\n",
       "2  1_1_2012-11-16             0\n",
       "3  1_1_2012-11-23             0\n",
       "4  1_1_2012-11-30             0"
      ]
     },
     "execution_count": 12,
     "metadata": {},
     "output_type": "execute_result"
    }
   ],
   "source": [
    "sub = pd.read_csv(\"/kaggle/input/walmart-recruiting-store-sales-forecasting/sampleSubmission.csv.zip\")\n",
    "sub.head()"
   ]
  },
  {
   "cell_type": "code",
   "execution_count": 13,
   "metadata": {
    "execution": {
     "iopub.execute_input": "2021-03-05T07:33:15.322683Z",
     "iopub.status.busy": "2021-03-05T07:33:15.317737Z",
     "iopub.status.idle": "2021-03-05T07:33:15.326964Z",
     "shell.execute_reply": "2021-03-05T07:33:15.326362Z"
    },
    "papermill": {
     "duration": 0.032854,
     "end_time": "2021-03-05T07:33:15.327091",
     "exception": false,
     "start_time": "2021-03-05T07:33:15.294237",
     "status": "completed"
    },
    "tags": []
   },
   "outputs": [
    {
     "data": {
      "text/html": [
       "<div>\n",
       "<style scoped>\n",
       "    .dataframe tbody tr th:only-of-type {\n",
       "        vertical-align: middle;\n",
       "    }\n",
       "\n",
       "    .dataframe tbody tr th {\n",
       "        vertical-align: top;\n",
       "    }\n",
       "\n",
       "    .dataframe thead th {\n",
       "        text-align: right;\n",
       "    }\n",
       "</style>\n",
       "<table border=\"1\" class=\"dataframe\">\n",
       "  <thead>\n",
       "    <tr style=\"text-align: right;\">\n",
       "      <th></th>\n",
       "      <th>Id</th>\n",
       "      <th>Weekly_Sales</th>\n",
       "    </tr>\n",
       "  </thead>\n",
       "  <tbody>\n",
       "    <tr>\n",
       "      <th>0</th>\n",
       "      <td>1_1_2012-11-02</td>\n",
       "      <td>25524.032097</td>\n",
       "    </tr>\n",
       "    <tr>\n",
       "      <th>1</th>\n",
       "      <td>1_1_2012-11-09</td>\n",
       "      <td>25524.032097</td>\n",
       "    </tr>\n",
       "    <tr>\n",
       "      <th>2</th>\n",
       "      <td>1_1_2012-11-16</td>\n",
       "      <td>25524.032097</td>\n",
       "    </tr>\n",
       "    <tr>\n",
       "      <th>3</th>\n",
       "      <td>1_1_2012-11-23</td>\n",
       "      <td>21950.538378</td>\n",
       "    </tr>\n",
       "    <tr>\n",
       "      <th>4</th>\n",
       "      <td>1_1_2012-11-30</td>\n",
       "      <td>25524.032097</td>\n",
       "    </tr>\n",
       "  </tbody>\n",
       "</table>\n",
       "</div>"
      ],
      "text/plain": [
       "               Id  Weekly_Sales\n",
       "0  1_1_2012-11-02  25524.032097\n",
       "1  1_1_2012-11-09  25524.032097\n",
       "2  1_1_2012-11-16  25524.032097\n",
       "3  1_1_2012-11-23  21950.538378\n",
       "4  1_1_2012-11-30  25524.032097"
      ]
     },
     "execution_count": 13,
     "metadata": {},
     "output_type": "execute_result"
    }
   ],
   "source": [
    "sub['Weekly_Sales'] = result\n",
    "sub.head() # 예측값 잘 들어갔는지 확인하기"
   ]
  },
  {
   "cell_type": "code",
   "execution_count": 14,
   "metadata": {
    "execution": {
     "iopub.execute_input": "2021-03-05T07:33:15.373314Z",
     "iopub.status.busy": "2021-03-05T07:33:15.372646Z",
     "iopub.status.idle": "2021-03-05T07:33:15.887938Z",
     "shell.execute_reply": "2021-03-05T07:33:15.887290Z"
    },
    "papermill": {
     "duration": 0.540132,
     "end_time": "2021-03-05T07:33:15.888084",
     "exception": false,
     "start_time": "2021-03-05T07:33:15.347952",
     "status": "completed"
    },
    "tags": []
   },
   "outputs": [],
   "source": [
    "# submission file .csv 파일로 보내기\n",
    "# 데이터프레임 형식 csv로 변환\n",
    "\n",
    "# index = 0 or index = False 적지 않으면 기본값으로 index = True 설정되어 있음\n",
    "# index = True일 때 sub dataframe의 인덱스가 column으로 변환되어서 나오게됨 \n",
    "sub.to_csv(\"submission_month.csv\",index = False) "
   ]
  },
  {
   "source": [
    "점수가 잘 나오지 않았을 때? (크게 2가지 이유)   \n",
    "1. 모델 선택을 잘못했을 때  \n",
    "2. 전처리를 잘못했을 때 "
   ],
   "cell_type": "markdown",
   "metadata": {
    "execution": {
     "iopub.execute_input": "2021-03-05T07:33:15.935399Z",
     "iopub.status.busy": "2021-03-05T07:33:15.934692Z",
     "iopub.status.idle": "2021-03-05T07:33:15.938362Z",
     "shell.execute_reply": "2021-03-05T07:33:15.937838Z"
    },
    "papermill": {
     "duration": 0.028731,
     "end_time": "2021-03-05T07:33:15.938484",
     "exception": false,
     "start_time": "2021-03-05T07:33:15.909753",
     "status": "completed"
    },
    "tags": []
   }
  },
  {
   "source": [
    "제출 할 수 있는 횟수가 정해져 있었을 때 \n",
    "-> 내부적으로 모델 점수 볼 수 있어야 함     \n",
    "use validation set"
   ],
   "cell_type": "markdown",
   "metadata": {
    "execution": {
     "iopub.execute_input": "2021-03-05T07:33:15.985639Z",
     "iopub.status.busy": "2021-03-05T07:33:15.984934Z",
     "iopub.status.idle": "2021-03-05T07:33:15.988708Z",
     "shell.execute_reply": "2021-03-05T07:33:15.988122Z"
    },
    "papermill": {
     "duration": 0.028873,
     "end_time": "2021-03-05T07:33:15.988826",
     "exception": false,
     "start_time": "2021-03-05T07:33:15.959953",
     "status": "completed"
    },
    "tags": []
   }
  },
  {
   "source": [
    "month column 추가 후 점수가 갑가지 확 뛰었다? -> 이상함 느껴야 한다\n",
    "- 대회의 평가방식에서 뭐를 중요하게 생각하는가? \n",
    "- 회사마다 모든 고객이 중요하지 않음(ex 게임회사한테는 과금유저, 장시간 게이머들이 더 중요)\n",
    "- Walmart: Holiday 기간 Sales의 예측을 중요하게 여김 (해당 부분 점수 산출시 weight 크게 줌)\n",
    "- Month column 추가시 어떤 공휴일에 판매가 잘 되는지 예측이 가능해짐\n",
    "- Month 가 뭔지는 몰라도 12이고 Holiday가 True일때 판매량이 늘어난다는 것을 학습하게 됨\n"
   ],
   "cell_type": "markdown",
   "metadata": {
    "execution": {
     "iopub.execute_input": "2021-03-05T07:33:16.034833Z",
     "iopub.status.busy": "2021-03-05T07:33:16.034237Z",
     "iopub.status.idle": "2021-03-05T07:33:16.037912Z",
     "shell.execute_reply": "2021-03-05T07:33:16.037117Z"
    },
    "papermill": {
     "duration": 0.027885,
     "end_time": "2021-03-05T07:33:16.038077",
     "exception": false,
     "start_time": "2021-03-05T07:33:16.010192",
     "status": "completed"
    },
    "tags": []
   }
  },
  {
   "cell_type": "code",
   "execution_count": null,
   "metadata": {},
   "outputs": [],
   "source": []
  }
 ],
 "metadata": {
  "kernelspec": {
   "display_name": "Python 3",
   "language": "python",
   "name": "python3"
  },
  "language_info": {
   "codemirror_mode": {
    "name": "ipython",
    "version": 3
   },
   "file_extension": ".py",
   "mimetype": "text/x-python",
   "name": "python",
   "nbconvert_exporter": "python",
   "pygments_lexer": "ipython3",
   "version": "3.8.5-final"
  },
  "papermill": {
   "default_parameters": {},
   "duration": 37.763066,
   "end_time": "2021-03-05T07:33:16.780406",
   "environment_variables": {},
   "exception": null,
   "input_path": "__notebook__.ipynb",
   "output_path": "__notebook__.ipynb",
   "parameters": {},
   "start_time": "2021-03-05T07:32:39.017340",
   "version": "2.2.2"
  }
 },
 "nbformat": 4,
 "nbformat_minor": 4
}